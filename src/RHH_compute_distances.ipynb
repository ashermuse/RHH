{
 "cells": [
  {
   "cell_type": "code",
   "execution_count": 1,
   "metadata": {},
   "outputs": [],
   "source": [
    "import pandas as pd\n",
    "import requests\n",
    "import json"
   ]
  },
  {
   "cell_type": "code",
   "execution_count": 2,
   "metadata": {},
   "outputs": [],
   "source": [
    "google_API_key = open('../credentials/google_api_key.txt').read()"
   ]
  },
  {
   "cell_type": "code",
   "execution_count": 3,
   "metadata": {},
   "outputs": [],
   "source": [
    "def osm_distance(lon_start, lat_start, lon_dest, lat_dest):\n",
    "    # Get routes from OSRM\n",
    "    r = requests.get(f\"http://router.project-osrm.org/route/v1/foot/{lon_start},{lat_start};{lon_dest},{lat_dest}?overview=false\")\n",
    "\n",
    "    # Parse routes from JSON output\n",
    "    routes = json.loads(r.content)\n",
    "\n",
    "    # Return fastest route in meters\n",
    "    return routes.get(\"routes\")[0][\"distance\"]\n",
    "\n",
    "def goog_distance(lon_start, lat_start, lon_dest, lat_dest):\n",
    "    # Get routes from Google API\n",
    "    r = requests.get(f\"https://maps.googleapis.com/maps/api/directions/json?origin={lat_start},{lon_start}&destination={lat_dest},{lon_dest}&mode=walking&key={google_API_key}\")\n",
    "\n",
    "    # Parse routes from JSON output\n",
    "    results = json.loads(r.content)\n",
    "\n",
    "    legs = results.get(\"routes\").pop(0).get(\"legs\")\n",
    "    # Return fastest route in meters\n",
    "    return legs[0].get(\"distance\")['value']\n",
    "\n",
    "def distance(lon_start, lat_start, lon_dest, lat_dest):\n",
    "    # Using OSM distance; might switch to Google API\n",
    "    return osm_distance(lon_start, lat_start, lon_dest, lat_dest)"
   ]
  },
  {
   "cell_type": "code",
   "execution_count": 4,
   "metadata": {},
   "outputs": [],
   "source": [
    "venues = pd.read_csv(\"../data/RHH_Venues.csv\")\n",
    "metros = pd.read_csv(\"../data/DC_Metro_Stations.csv\")"
   ]
  },
  {
   "cell_type": "code",
   "execution_count": 5,
   "metadata": {},
   "outputs": [],
   "source": [
    "from math import radians, cos, sin, asin, sqrt\n",
    "def haversine(lon1, lat1, lon2, lat2):\n",
    "    \"\"\"\n",
    "    Calculate the great circle distance between two points \n",
    "    on the earth (specified in decimal degrees)\n",
    "    \"\"\"\n",
    "    # convert decimal degrees to radians \n",
    "    lon1, lat1, lon2, lat2 = map(radians, [lon1, lat1, lon2, lat2])\n",
    "    # haversine formula \n",
    "    dlon = lon2 - lon1 \n",
    "    dlat = lat2 - lat1 \n",
    "    a = sin(dlat/2)**2 + cos(lat1) * cos(lat2) * sin(dlon/2)**2\n",
    "    c = 2 * asin(sqrt(a)) \n",
    "    # Radius of earth in kilometers is 6371\n",
    "    km = 6371* c\n",
    "    return km * 1000"
   ]
  },
  {
   "cell_type": "code",
   "execution_count": 6,
   "metadata": {},
   "outputs": [],
   "source": [
    "acceptable_walking_distance_in_meters = 500\n",
    "\n",
    "def compute_closest_metros(venue):\n",
    "    # Find 5 closest Euclidian distances and only API call for them\n",
    "    q_distances = []\n",
    "    for index, metro in metros.iterrows():\n",
    "        q_distances.append(haversine(metro['lon'], metro['lat'], venue['lon'], venue['lat']))\n",
    "\n",
    "    sorted_q_distances = sorted(set(q_distances))[0:5]\n",
    "    top_5_indexes = []\n",
    "    for q_dist in sorted_q_distances:\n",
    "        top_5_indexes.append(q_distances.index(q_dist))\n",
    "\n",
    "    distances = []\n",
    "    for index, metro in metros.iloc[top_5_indexes].iterrows():\n",
    "        distances.append(distance(metro['lon'], metro['lat'], venue['lon'], venue['lat']))\n",
    "\n",
    "    sorted_distances = sorted(set(distances))\n",
    "    \n",
    "    close_metros = []\n",
    "    shortest_distance = sorted_distances[0]\n",
    "    for dist in sorted_distances:\n",
    "        # If the walking distance is acceptable AND it is not twice the distance as the shortest metro\n",
    "        if dist < acceptable_walking_distance_in_meters and dist < shortest_distance * 1.75:\n",
    "            close_metros.append(distances.index(dist))\n",
    "    \n",
    "    # If we don't find anything, try it again but double the walking distance\n",
    "    if len(close_metros) == 0:\n",
    "        for dist in sorted_distances:\n",
    "            # If the walking distance is acceptable AND it is not twice the distance as the shortest metro\n",
    "            if dist < acceptable_walking_distance_in_meters * 2 and dist < shortest_distance * 2:\n",
    "                close_metros.append(distances.index(dist))\n",
    "    \n",
    "    # If we still don't find anything, just take the 1 closest\n",
    "    if len(close_metros) == 0:\n",
    "        close_metros = [distances.index(sorted_distances[0])]\n",
    "    \n",
    "    return list(metros['Name'].iloc[top_5_indexes].iloc[close_metros])"
   ]
  },
  {
   "cell_type": "code",
   "execution_count": 7,
   "metadata": {},
   "outputs": [],
   "source": [
    "venues['Closest Metros'] = venues.apply(lambda row: compute_closest_metros(row), axis=1)"
   ]
  },
  {
   "cell_type": "code",
   "execution_count": 8,
   "metadata": {},
   "outputs": [],
   "source": [
    "venues.to_csv(\"../data/RHH_Venues.csv\", index=False)"
   ]
  }
 ],
 "metadata": {
  "interpreter": {
   "hash": "33f25320136895269129cd2ed934c5172931c6ea249807b9fe2fd55508be5a59"
  },
  "kernelspec": {
   "display_name": "Python 3.10.4 64-bit",
   "language": "python",
   "name": "python3"
  },
  "language_info": {
   "codemirror_mode": {
    "name": "ipython",
    "version": 3
   },
   "file_extension": ".py",
   "mimetype": "text/x-python",
   "name": "python",
   "nbconvert_exporter": "python",
   "pygments_lexer": "ipython3",
   "version": "3.10.4"
  },
  "orig_nbformat": 4
 },
 "nbformat": 4,
 "nbformat_minor": 2
}
